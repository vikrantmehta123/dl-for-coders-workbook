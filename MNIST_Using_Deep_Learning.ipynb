{
  "nbformat": 4,
  "nbformat_minor": 0,
  "metadata": {
    "colab": {
      "provenance": [],
      "authorship_tag": "ABX9TyNCmu7ZCIb+XhBfg5Oq3MXD",
      "include_colab_link": true
    },
    "kernelspec": {
      "name": "python3",
      "display_name": "Python 3"
    },
    "language_info": {
      "name": "python"
    }
  },
  "cells": [
    {
      "cell_type": "markdown",
      "metadata": {
        "id": "view-in-github",
        "colab_type": "text"
      },
      "source": [
        "<a href=\"https://colab.research.google.com/github/vikrantmehta123/dl-for-coders-workbook/blob/main/MNIST_Using_Deep_Learning.ipynb\" target=\"_parent\"><img src=\"https://colab.research.google.com/assets/colab-badge.svg\" alt=\"Open In Colab\"/></a>"
      ]
    },
    {
      "cell_type": "markdown",
      "source": [
        "# Training a Digit Recognition Model\n",
        "\n",
        "In this notebook, we'll train a deep learning model to classify handwritten digits from 0 to 9. We'll use the MNIST dataset for the purposes of training, and we'll use FastAI and PyTorch to implement our model. This notebook is implemented as an exercise for FastAI's course on deep learning: \"Deep Learning for Coders\"."
      ],
      "metadata": {
        "id": "nlUBeMIOKyTH"
      }
    },
    {
      "cell_type": "code",
      "execution_count": 4,
      "metadata": {
        "id": "ZHPl5AGiAnNJ"
      },
      "outputs": [],
      "source": [
        "# installation and setup of the Fast AI notebook\n",
        "! [ -e /content ] && pip install -Uqq fastbook;\n",
        "import fastbook;"
      ]
    },
    {
      "cell_type": "code",
      "source": [
        "# Import necessary libraries and configs\n",
        "from fastai.vision.all import *\n",
        "from fastbook import *\n",
        "\n",
        "matplotlib.rc('image', cmap='Greys')"
      ],
      "metadata": {
        "id": "S0cmGMWzA46t"
      },
      "execution_count": 5,
      "outputs": []
    },
    {
      "cell_type": "markdown",
      "source": [
        "### Getting the Data:\n",
        "\n",
        "The MNIST dataset is available in the FastAI library in the `URLs`  module and we can use `untar_data` to get the paths for the dataset. We get a training directory and a testing directory. Inside these, there are subdirectories for each of the digits.\n",
        "\n"
      ],
      "metadata": {
        "id": "FQ1TfEH-LlJf"
      }
    },
    {
      "cell_type": "code",
      "source": [
        "path = untar_data(URLs.MNIST)\n",
        "path.ls()"
      ],
      "metadata": {
        "colab": {
          "base_uri": "https://localhost:8080/",
          "height": 54
        },
        "id": "bhaqdJ9bA6fu",
        "outputId": "f679b480-6204-4de4-926e-3d8831336dc3"
      },
      "execution_count": 6,
      "outputs": [
        {
          "output_type": "display_data",
          "data": {
            "text/plain": [
              "<IPython.core.display.HTML object>"
            ],
            "text/html": [
              "\n",
              "<style>\n",
              "    /* Turns off some styling */\n",
              "    progress {\n",
              "        /* gets rid of default border in Firefox and Opera. */\n",
              "        border: none;\n",
              "        /* Needs to be in here for Safari polyfill so background images work as expected. */\n",
              "        background-size: auto;\n",
              "    }\n",
              "    progress:not([value]), progress:not([value])::-webkit-progress-bar {\n",
              "        background: repeating-linear-gradient(45deg, #7e7e7e, #7e7e7e 10px, #5c5c5c 10px, #5c5c5c 20px);\n",
              "    }\n",
              "    .progress-bar-interrupted, .progress-bar-interrupted::-webkit-progress-bar {\n",
              "        background: #F44336;\n",
              "    }\n",
              "</style>\n"
            ]
          },
          "metadata": {}
        },
        {
          "output_type": "display_data",
          "data": {
            "text/plain": [
              "<IPython.core.display.HTML object>"
            ],
            "text/html": [
              "\n",
              "    <div>\n",
              "      <progress value='15687680' class='' max='15683414' style='width:300px; height:20px; vertical-align: middle;'></progress>\n",
              "      100.03% [15687680/15683414 00:03&lt;00:00]\n",
              "    </div>\n",
              "    "
            ]
          },
          "metadata": {}
        },
        {
          "output_type": "execute_result",
          "data": {
            "text/plain": [
              "(#2) [Path('/root/.fastai/data/mnist_png/testing'),Path('/root/.fastai/data/mnist_png/training')]"
            ]
          },
          "metadata": {},
          "execution_count": 6
        }
      ]
    },
    {
      "cell_type": "code",
      "source": [
        "# This line is directly from FastAI's notebooks\n",
        "Path.BASE_PATH = path"
      ],
      "metadata": {
        "id": "xWGR-DexBPer"
      },
      "execution_count": 7,
      "outputs": []
    },
    {
      "cell_type": "code",
      "source": [
        "training_path = (path/'training').ls()\n",
        "training_path"
      ],
      "metadata": {
        "colab": {
          "base_uri": "https://localhost:8080/"
        },
        "id": "K3ofhfoiB97m",
        "outputId": "2a6b7801-396d-45f1-d2a9-a8d0336e58ef"
      },
      "execution_count": 8,
      "outputs": [
        {
          "output_type": "execute_result",
          "data": {
            "text/plain": [
              "(#10) [Path('training/0'),Path('training/6'),Path('training/8'),Path('training/2'),Path('training/7'),Path('training/9'),Path('training/3'),Path('training/1'),Path('training/4'),Path('training/5')]"
            ]
          },
          "metadata": {},
          "execution_count": 8
        }
      ]
    },
    {
      "cell_type": "markdown",
      "source": [
        "### Plotting Samples:\n",
        "\n",
        "Now that we know how to access the data, let's plot a digit from each of the subdirectories. We'll use `subplots` function from `matplotlib` to plot the digits in a single plot."
      ],
      "metadata": {
        "id": "Pv6yOYlTMLzU"
      }
    },
    {
      "cell_type": "code",
      "source": [
        "fig, axes = plt.subplots(3, 3, figsize=(6, 6))\n",
        "for i in range(9):\n",
        "    img = Image.open(training_path[i].ls()[0])\n",
        "    img_tensor = tensor(img)\n",
        "    img_label = str(training_path[i])[-1]\n",
        "    ax = axes[i // 3, i % 3]  # Determine position in grid\n",
        "    ax.imshow(img_tensor, cmap='gray')  # Plot the image in grayscale\n",
        "    ax.set_title(f'Label: {img_label}')  # Set the title as the label\n",
        "    ax.axis('off')  # Turn off the axis"
      ],
      "metadata": {
        "colab": {
          "base_uri": "https://localhost:8080/",
          "height": 522
        },
        "id": "gMoaVm-bC4ff",
        "outputId": "a58ba7cc-aadf-4113-c4c5-8aa1540474de"
      },
      "execution_count": 9,
      "outputs": [
        {
          "output_type": "display_data",
          "data": {
            "text/plain": [
              "<Figure size 600x600 with 9 Axes>"
            ],
            "image/png": "[encoded data removed]"
          },
          "metadata": {}
        }
      ]
    },
    {
      "cell_type": "markdown",
      "source": [
        "### Creating the Training Dataset:\n",
        "\n",
        "For this data to be usable, we need to first open all the images and get their tensor representations. We'll stack these tensor representations in a list. We'll also create the labels for the training data using the directory name as the label.\n",
        "\n",
        "To standardize the data, we're dividing all tensors by 255 such that the values fall between 0 to 1."
      ],
      "metadata": {
        "id": "hx8u-JgtMo0P"
      }
    },
    {
      "cell_type": "code",
      "source": [
        "x = [ ] # list of tensor representations of images\n",
        "y = [ ] # list of output labels\n",
        "for i in range(10):\n",
        "    img_paths = (path/'training'/str(i)).ls()  # Get the image paths in folder 'i'\n",
        "\n",
        "    # Load the images and convert to tensors\n",
        "\n",
        "    x.extend([tensor(Image.open(o)) for o in img_paths])\n",
        "\n",
        "    # Store the corresponding label `i` for all images in this folder\n",
        "    y.extend([tensor(i)] * len(img_paths))"
      ],
      "metadata": {
        "id": "vQ80399oFRhd"
      },
      "execution_count": 10,
      "outputs": []
    },
    {
      "cell_type": "code",
      "source": [
        "# Convert the python list into PyTorch tensor so that we can use these in model, and standardize it\n",
        "x_tensor = torch.stack(x).float()/255\n",
        "y_tensor = torch.tensor(y)\n",
        "\n",
        "x_tensor.shape, y_tensor.shape"
      ],
      "metadata": {
        "colab": {
          "base_uri": "https://localhost:8080/"
        },
        "id": "ZU0vx5MVGuc1",
        "outputId": "a9e019a6-31bb-4080-9cbc-d899bc951e60"
      },
      "execution_count": 11,
      "outputs": [
        {
          "output_type": "execute_result",
          "data": {
            "text/plain": [
              "(torch.Size([60000, 28, 28]), torch.Size([60000]))"
            ]
          },
          "metadata": {},
          "execution_count": 11
        }
      ]
    },
    {
      "cell_type": "code",
      "source": [
        "# Each image is 28 * 28. We flatten each image into a single tensor of size 784.\n",
        "flattened_x = x_tensor.view(-1, 28*28)\n",
        "flattened_y = y_tensor.unsqueeze(1) # y_tensor has shape [60000], we unsqueeze it to make it [60000, 1]\n",
        "flattened_x.shape, flattened_y.shape"
      ],
      "metadata": {
        "colab": {
          "base_uri": "https://localhost:8080/"
        },
        "id": "t1wQWCQ5IQ3K",
        "outputId": "fb2b4805-ff0b-4555-f505-6a29bcd82ca6"
      },
      "execution_count": 12,
      "outputs": [
        {
          "output_type": "execute_result",
          "data": {
            "text/plain": [
              "(torch.Size([60000, 784]), torch.Size([60000, 1]))"
            ]
          },
          "metadata": {},
          "execution_count": 12
        }
      ]
    },
    {
      "cell_type": "markdown",
      "source": [
        "### Splitting the Dataset:\n",
        "\n",
        "Now that we have created a dataset that can be passed to our model, let's split the data into a training and a validation set. For this model, we are use `RandomSplitter` from FastAI to split the dataset randomly into training and validation sets. `RandomSplitter` gives us indices for the training and validation sets, which we can use to split the dataset.\n"
      ],
      "metadata": {
        "id": "4VbIu-dAN-ge"
      }
    },
    {
      "cell_type": "code",
      "source": [
        "from fastai.data.transforms import RandomSplitter\n",
        "\n",
        "splitter = RandomSplitter(valid_pct=0.2, seed=42)  # 80% training, 20% validation\n",
        "\n",
        "train_idxs, val_idxs = splitter(range(len(flattened_x)))\n",
        "\n",
        "# Create the training and validation data using indexing\n",
        "X_train = flattened_x[train_idxs]\n",
        "y_train = flattened_y[train_idxs]\n",
        "\n",
        "X_val = flattened_x[val_idxs]\n",
        "y_val = flattened_y[val_idxs]\n",
        "\n",
        "X_train.shape, y_train.shape, X_val.shape, y_val.shape"
      ],
      "metadata": {
        "colab": {
          "base_uri": "https://localhost:8080/"
        },
        "id": "ChcgsIq9JtOj",
        "outputId": "83b79e92-3ef9-4d70-b208-5e151de0d565"
      },
      "execution_count": 13,
      "outputs": [
        {
          "output_type": "execute_result",
          "data": {
            "text/plain": [
              "(torch.Size([48000, 784]),\n",
              " torch.Size([48000, 1]),\n",
              " torch.Size([12000, 784]),\n",
              " torch.Size([12000, 1]))"
            ]
          },
          "metadata": {},
          "execution_count": 13
        }
      ]
    },
    {
      "cell_type": "code",
      "source": [
        "# zip the inputs and output labels together to create datasets for training and validation\n",
        "train_dataset = list(zip(X_train, y_train))\n",
        "validation_dataset = list(zip(X_train, y_train))"
      ],
      "metadata": {
        "id": "DBRXSXk5bpAx"
      },
      "execution_count": 14,
      "outputs": []
    },
    {
      "cell_type": "markdown",
      "source": [
        "We define some functions that we'll use throughout the notebook- for initializing random parameters, for computing cross-entropy loss, and for doing linear operations."
      ],
      "metadata": {
        "id": "0IpJan70fbzZ"
      }
    },
    {
      "cell_type": "code",
      "source": [
        "# randomly initialize parameters\n",
        "def init_params(size, std=1.0):\n",
        "    return (torch.randn(size)*std).requires_grad_()\n",
        "\n",
        "# Linear operation of x_batch @ weights + bias\n",
        "def linear(xb, weights, bias):\n",
        "    return xb @ weights + bias\n",
        "\n",
        "\n",
        "# log_softmax implementation\n",
        "def log_softmax(logits):\n",
        "    max_logits = logits.max(dim=1, keepdim=True).values\n",
        "    stable_logits = logits - max_logits  # For numerical stability\n",
        "\n",
        "    # Compute log-softmax\n",
        "    log_probs = stable_logits - torch.log(torch.exp(stable_logits).sum(dim=1, keepdim=True))\n",
        "\n",
        "    return log_probs\n",
        "\n",
        "# Computation of cross entropy loss\n",
        "def cross_entropy_loss(log_probs, yb):\n",
        "    yb = yb.squeeze(1)\n",
        "    log_probs = log_probs.squeeze(1)\n",
        "\n",
        "    true_class_log_probs = log_probs[range(len(yb)), yb]\n",
        "\n",
        "    loss = -true_class_log_probs.mean()\n",
        "    return loss"
      ],
      "metadata": {
        "id": "QaXIpa-jeIpY"
      },
      "execution_count": 15,
      "outputs": []
    },
    {
      "cell_type": "markdown",
      "source": [
        "### Building the Model:\n",
        "\n",
        "For starters, we build a model that has a single layer in the network. The size of the weights is $784 \\times 10$ and that of bias is $1 \\times 10$."
      ],
      "metadata": {
        "id": "8peCYqwad6O6"
      }
    },
    {
      "cell_type": "code",
      "source": [
        "weights = init_params((28*28,10))\n",
        "bias = init_params((1, 10))\n",
        "\n",
        "weights.shape, bias.shape"
      ],
      "metadata": {
        "colab": {
          "base_uri": "https://localhost:8080/"
        },
        "id": "tixszBFKeejz",
        "outputId": "d980b13d-2d72-4668-b97a-7b5bd459f92f"
      },
      "execution_count": 16,
      "outputs": [
        {
          "output_type": "execute_result",
          "data": {
            "text/plain": [
              "(torch.Size([784, 10]), torch.Size([1, 10]))"
            ]
          },
          "metadata": {},
          "execution_count": 16
        }
      ]
    },
    {
      "cell_type": "code",
      "source": [
        "# Convert the training and validation datasets into dataloaders\n",
        "# because dataloaders will take care of passing the inputs in batches for us.\n",
        "train_dataloader = DataLoader(train_dataset, batch_size=256, shuffle=True)\n",
        "validation_dataloader = DataLoader(validation_dataset, batch_size=256, shuffle=True)"
      ],
      "metadata": {
        "id": "gHgFioNvreGd"
      },
      "execution_count": 17,
      "outputs": []
    },
    {
      "cell_type": "markdown",
      "source": [
        "##### Train the Model\n",
        "\n",
        "Now that we've defined the architecture for the model, let's train it. We'll train it for 25 epochs and us a learning rate of 0.01"
      ],
      "metadata": {
        "id": "fHZAjDb1g5Ja"
      }
    },
    {
      "cell_type": "code",
      "source": [
        "epochs = 25\n",
        "learning_rate = 0.01\n",
        "for i in range(epochs):\n",
        "    for xb, yb in train_dataloader:\n",
        "        # Zero the gradients for the next batch\n",
        "        if weights.grad is not None:\n",
        "            weights.grad.zero_()\n",
        "        if bias.grad is not None:\n",
        "            bias.grad.zero_()\n",
        "\n",
        "        # Compute the log softmax probabilities\n",
        "        probabilities = log_softmax(linear(xb, weights, bias))\n",
        "\n",
        "        # Based on the predictions compute loss\n",
        "        loss = cross_entropy_loss(probabilities, yb)\n",
        "        loss.backward()\n",
        "\n",
        "        # Update weights and biases\n",
        "        with torch.no_grad():\n",
        "            weights -= learning_rate * weights\n",
        "            bias -= learning_rate * bias.grad\n",
        "\n",
        "    epoch_loss = 0\n",
        "    for xb, yb in validation_dataloader:\n",
        "        probabilities = log_softmax(linear(xb, weights, bias))\n",
        "        loss = cross_entropy_loss(probabilities, yb)\n",
        "        epoch_loss += loss.item()\n",
        "\n",
        "    average_loss = epoch_loss / len(validation_dataloader)\n",
        "\n",
        "    # Print the loss after each epoch\n",
        "    print(f'Epoch [{i+1}/{epochs}], Loss: {average_loss:.4f}')\n"
      ],
      "metadata": {
        "colab": {
          "base_uri": "https://localhost:8080/"
        },
        "id": "4y_NM5_E4VyY",
        "outputId": "84400e93-7af8-40a6-af96-e9ff10e8844a"
      },
      "execution_count": 18,
      "outputs": [
        {
          "output_type": "stream",
          "name": "stdout",
          "text": [
            "Epoch [1/25], Loss: 3.5902\n",
            "Epoch [2/25], Loss: 2.7104\n",
            "Epoch [3/25], Loss: 2.5614\n",
            "Epoch [4/25], Loss: 2.4830\n",
            "Epoch [5/25], Loss: 2.4322\n",
            "Epoch [6/25], Loss: 2.3971\n",
            "Epoch [7/25], Loss: 2.3722\n",
            "Epoch [8/25], Loss: 2.3537\n",
            "Epoch [9/25], Loss: 2.3402\n",
            "Epoch [10/25], Loss: 2.3300\n",
            "Epoch [11/25], Loss: 2.3224\n",
            "Epoch [12/25], Loss: 2.3168\n",
            "Epoch [13/25], Loss: 2.3126\n",
            "Epoch [14/25], Loss: 2.3094\n",
            "Epoch [15/25], Loss: 2.3071\n",
            "Epoch [16/25], Loss: 2.3054\n",
            "Epoch [17/25], Loss: 2.3042\n",
            "Epoch [18/25], Loss: 2.3033\n",
            "Epoch [19/25], Loss: 2.3026\n",
            "Epoch [20/25], Loss: 2.3022\n",
            "Epoch [21/25], Loss: 2.3019\n",
            "Epoch [22/25], Loss: 2.3016\n",
            "Epoch [23/25], Loss: 2.3014\n",
            "Epoch [24/25], Loss: 2.3013\n",
            "Epoch [25/25], Loss: 2.3012\n"
          ]
        }
      ]
    },
    {
      "cell_type": "markdown",
      "source": [
        "### Model Evaluation\n",
        "\n",
        "We've now trained our model. Now let's see if we can use this model to predict the labels for the test dataset."
      ],
      "metadata": {
        "id": "iKpMataY-WKi"
      }
    },
    {
      "cell_type": "code",
      "source": [
        "testing_path = (path/'testing').ls()\n",
        "testing_path"
      ],
      "metadata": {
        "colab": {
          "base_uri": "https://localhost:8080/"
        },
        "id": "fgjeXVNe-jJk",
        "outputId": "b78fe3f4-bbd8-4e72-fcb3-cc2fc451fd0f"
      },
      "execution_count": 19,
      "outputs": [
        {
          "output_type": "execute_result",
          "data": {
            "text/plain": [
              "(#10) [Path('testing/0'),Path('testing/6'),Path('testing/8'),Path('testing/2'),Path('testing/7'),Path('testing/9'),Path('testing/3'),Path('testing/1'),Path('testing/4'),Path('testing/5')]"
            ]
          },
          "metadata": {},
          "execution_count": 19
        }
      ]
    },
    {
      "cell_type": "markdown",
      "source": [
        "We fetch the test dataset from the `testing` directory and apply the same transformations we applied to the training dataset- flattening and standardizing it."
      ],
      "metadata": {
        "id": "cnGCGwpfhlBb"
      }
    },
    {
      "cell_type": "code",
      "source": [
        "x_test = [ ]\n",
        "y_test = [ ]\n",
        "for i in range(10):\n",
        "    img_paths = (path/'testing'/str(i)).ls()  # Get the image paths in folder 'i'\n",
        "\n",
        "    # Load the images and convert to tensors\n",
        "\n",
        "    x_test.extend([tensor(Image.open(o)) for o in img_paths])\n",
        "\n",
        "    # Store the corresponding label `i` for all images in this folder\n",
        "    y_test.extend([tensor(i)] * len(img_paths))\n",
        "\n",
        "\n",
        "x_test_tensor = torch.stack(x_test).float()/255\n",
        "y_test_tensor = torch.tensor(y_test)\n",
        "\n",
        "# Each image is 28 * 28. So we flatten each image into a single flat tensor of size 784.\n",
        "flattened_x_test = x_test_tensor.view(-1, 28*28)\n",
        "flattened_y_test = y_test_tensor.unsqueeze(1)\n",
        "flattened_x_test.shape, flattened_y_test.shape"
      ],
      "metadata": {
        "colab": {
          "base_uri": "https://localhost:8080/"
        },
        "id": "10enSwcLCUMW",
        "outputId": "7b4c058e-1d8b-49f1-d50f-7edad7cee99b"
      },
      "execution_count": 20,
      "outputs": [
        {
          "output_type": "execute_result",
          "data": {
            "text/plain": [
              "(torch.Size([10000, 784]), torch.Size([10000, 1]))"
            ]
          },
          "metadata": {},
          "execution_count": 20
        }
      ]
    },
    {
      "cell_type": "markdown",
      "source": [
        "##### Predict\n",
        "\n",
        "We use the transformed test dataset and the model that we trained to predict on the test dataset, and compute the accuracy of our predictions."
      ],
      "metadata": {
        "id": "hN-lLFUZhuzp"
      }
    },
    {
      "cell_type": "code",
      "source": [
        "# Forward pass through the network\n",
        "logits = linear(flattened_x_test, weights, bias)  # Get logits\n",
        "probabilities = torch.exp(log_softmax(logits))  # Get probabilities\n",
        "\n",
        "predicted_classes = torch.argmax(probabilities, dim=1)\n",
        "\n",
        "predicted_classes.shape"
      ],
      "metadata": {
        "colab": {
          "base_uri": "https://localhost:8080/"
        },
        "id": "P6K1tCeD-ujN",
        "outputId": "4dc95951-cfd3-4b8b-cb02-76db55f61674"
      },
      "execution_count": 21,
      "outputs": [
        {
          "output_type": "execute_result",
          "data": {
            "text/plain": [
              "torch.Size([10000])"
            ]
          },
          "metadata": {},
          "execution_count": 21
        }
      ]
    },
    {
      "cell_type": "code",
      "source": [
        "# Calculate the number of correct predictions\n",
        "\n",
        "correct_predictions = (predicted_classes == y_test_tensor).sum().item()\n",
        "\n",
        "# Calculate the number of incorrect predictions\n",
        "incorrect_predictions = len(y_test_tensor) - correct_predictions\n",
        "\n",
        "# Print the results\n",
        "print(f'Number of correct predictions: {correct_predictions}')\n",
        "print(f'Number of incorrect predictions: {incorrect_predictions}')"
      ],
      "metadata": {
        "colab": {
          "base_uri": "https://localhost:8080/"
        },
        "id": "pkxClBSiC3BW",
        "outputId": "4ef277a9-b1fa-4569-8be0-2fd57d7e2c7c"
      },
      "execution_count": 22,
      "outputs": [
        {
          "output_type": "stream",
          "name": "stdout",
          "text": [
            "Number of correct predictions: 1135\n",
            "Number of incorrect predictions: 8865\n"
          ]
        }
      ]
    },
    {
      "cell_type": "markdown",
      "source": [
        "### Improving Model\n",
        "\n",
        "The model gave only 10% accuracy. But not to worry! We have built the full model pipeline, let's see if we can improve the model further. We'll modify the architecture of the model and train the model a bit longer as well.\n",
        "\n",
        "Here, we are training a two-layered model. It has the following components:\n",
        "\n",
        "1. Linear layer\n",
        "2. ReLU activation\n",
        "3. Linear Layers\n",
        "4. Softmax output function\n",
        "\n"
      ],
      "metadata": {
        "id": "LWJCZlBAGFdi"
      }
    },
    {
      "cell_type": "code",
      "source": [
        "# Initialize the weights and biases of the new architecture\n",
        "w1 = init_params((28*28,128))\n",
        "b1 = init_params(128)\n",
        "w2 = init_params((128,10))\n",
        "b2 = init_params(10)\n",
        "\n",
        "\n",
        "epochs = 100\n",
        "learning_rate = 0.01\n",
        "\n",
        "for i in range(epochs):\n",
        "    for xb, yb in train_dataloader:\n",
        "        # Reset gradients\n",
        "        if w1.grad is not None:\n",
        "            w1.grad.zero_()\n",
        "        if b1.grad is not None:\n",
        "            b1.grad.zero_()\n",
        "        if w2.grad is not None:\n",
        "            w2.grad.zero_()\n",
        "        if b2.grad is not None:\n",
        "            b2.grad.zero_()\n",
        "\n",
        "        # Forward pass\n",
        "        hidden = torch.relu(linear(xb, w1, b1))\n",
        "        probabilities = log_softmax(linear(hidden, w2, b2))\n",
        "\n",
        "        # Compute loss\n",
        "        loss = cross_entropy_loss(probabilities, yb)\n",
        "\n",
        "        # Backpropagation\n",
        "        loss.backward()\n",
        "\n",
        "        # Update weights and biases\n",
        "        with torch.no_grad():\n",
        "            w1 -= learning_rate * w1.grad\n",
        "            b1 -= learning_rate * b1.grad\n",
        "            w2 -= learning_rate * w2.grad\n",
        "            b2 -= learning_rate * b2.grad\n",
        "\n",
        "    # Validation step- compute loss on vaidation dataset\n",
        "    epoch_loss = 0\n",
        "    for xb, yb in validation_dataloader:\n",
        "        hidden = torch.relu(linear(xb, w1, b1))\n",
        "        probabilities = log_softmax(linear(hidden, w2, b2))\n",
        "        loss = cross_entropy_loss(probabilities, yb)\n",
        "        epoch_loss += loss.item()\n",
        "\n",
        "    average_loss = epoch_loss / len(validation_dataloader)\n",
        "\n",
        "    # Print the loss after each epoch\n",
        "    print(f'Epoch [{i+1}/{epochs}], Loss: {average_loss:.4f}')\n"
      ],
      "metadata": {
        "colab": {
          "base_uri": "https://localhost:8080/"
        },
        "id": "kwMnvw9zGHSD",
        "outputId": "04f36612-591a-4807-b5a8-e2bb5b730926"
      },
      "execution_count": 23,
      "outputs": [
        {
          "output_type": "stream",
          "name": "stdout",
          "text": [
            "Epoch [1/100], Loss: 13.6687\n",
            "Epoch [2/100], Loss: 8.8129\n",
            "Epoch [3/100], Loss: 6.9474\n",
            "Epoch [4/100], Loss: 5.9257\n",
            "Epoch [5/100], Loss: 5.2786\n",
            "Epoch [6/100], Loss: 4.7670\n",
            "Epoch [7/100], Loss: 4.3802\n",
            "Epoch [8/100], Loss: 4.0817\n",
            "Epoch [9/100], Loss: 3.8078\n",
            "Epoch [10/100], Loss: 3.5781\n",
            "Epoch [11/100], Loss: 3.3970\n",
            "Epoch [12/100], Loss: 3.2094\n",
            "Epoch [13/100], Loss: 3.0610\n",
            "Epoch [14/100], Loss: 2.9064\n",
            "Epoch [15/100], Loss: 2.7894\n",
            "Epoch [16/100], Loss: 2.6695\n",
            "Epoch [17/100], Loss: 2.5793\n",
            "Epoch [18/100], Loss: 2.4714\n",
            "Epoch [19/100], Loss: 2.3799\n",
            "Epoch [20/100], Loss: 2.2986\n",
            "Epoch [21/100], Loss: 2.2194\n",
            "Epoch [22/100], Loss: 2.1517\n",
            "Epoch [23/100], Loss: 2.0960\n",
            "Epoch [24/100], Loss: 2.0156\n",
            "Epoch [25/100], Loss: 1.9566\n",
            "Epoch [26/100], Loss: 1.9012\n",
            "Epoch [27/100], Loss: 1.8587\n",
            "Epoch [28/100], Loss: 1.7996\n",
            "Epoch [29/100], Loss: 1.7487\n",
            "Epoch [30/100], Loss: 1.7097\n",
            "Epoch [31/100], Loss: 1.6657\n",
            "Epoch [32/100], Loss: 1.6392\n",
            "Epoch [33/100], Loss: 1.5850\n",
            "Epoch [34/100], Loss: 1.5480\n",
            "Epoch [35/100], Loss: 1.5114\n",
            "Epoch [36/100], Loss: 1.4821\n",
            "Epoch [37/100], Loss: 1.4500\n",
            "Epoch [38/100], Loss: 1.4200\n",
            "Epoch [39/100], Loss: 1.3872\n",
            "Epoch [40/100], Loss: 1.3535\n",
            "Epoch [41/100], Loss: 1.3302\n",
            "Epoch [42/100], Loss: 1.3031\n",
            "Epoch [43/100], Loss: 1.2718\n",
            "Epoch [44/100], Loss: 1.2536\n",
            "Epoch [45/100], Loss: 1.2289\n",
            "Epoch [46/100], Loss: 1.2049\n",
            "Epoch [47/100], Loss: 1.1794\n",
            "Epoch [48/100], Loss: 1.1601\n",
            "Epoch [49/100], Loss: 1.1414\n",
            "Epoch [50/100], Loss: 1.1210\n",
            "Epoch [51/100], Loss: 1.1013\n",
            "Epoch [52/100], Loss: 1.0816\n",
            "Epoch [53/100], Loss: 1.0639\n",
            "Epoch [54/100], Loss: 1.0624\n",
            "Epoch [55/100], Loss: 1.0313\n",
            "Epoch [56/100], Loss: 1.0145\n",
            "Epoch [57/100], Loss: 0.9982\n",
            "Epoch [58/100], Loss: 0.9820\n",
            "Epoch [59/100], Loss: 0.9673\n",
            "Epoch [60/100], Loss: 0.9520\n",
            "Epoch [61/100], Loss: 0.9422\n",
            "Epoch [62/100], Loss: 0.9273\n",
            "Epoch [63/100], Loss: 0.9130\n",
            "Epoch [64/100], Loss: 0.8971\n",
            "Epoch [65/100], Loss: 0.8847\n",
            "Epoch [66/100], Loss: 0.8734\n",
            "Epoch [67/100], Loss: 0.8589\n",
            "Epoch [68/100], Loss: 0.8532\n",
            "Epoch [69/100], Loss: 0.8357\n",
            "Epoch [70/100], Loss: 0.8251\n",
            "Epoch [71/100], Loss: 0.8133\n",
            "Epoch [72/100], Loss: 0.8020\n",
            "Epoch [73/100], Loss: 0.7959\n",
            "Epoch [74/100], Loss: 0.7854\n",
            "Epoch [75/100], Loss: 0.7707\n",
            "Epoch [76/100], Loss: 0.7674\n",
            "Epoch [77/100], Loss: 0.7517\n",
            "Epoch [78/100], Loss: 0.7439\n",
            "Epoch [79/100], Loss: 0.7335\n",
            "Epoch [80/100], Loss: 0.7244\n",
            "Epoch [81/100], Loss: 0.7169\n",
            "Epoch [82/100], Loss: 0.7086\n",
            "Epoch [83/100], Loss: 0.6992\n",
            "Epoch [84/100], Loss: 0.6990\n",
            "Epoch [85/100], Loss: 0.6848\n",
            "Epoch [86/100], Loss: 0.6741\n",
            "Epoch [87/100], Loss: 0.6779\n",
            "Epoch [88/100], Loss: 0.6601\n",
            "Epoch [89/100], Loss: 0.6531\n",
            "Epoch [90/100], Loss: 0.6463\n",
            "Epoch [91/100], Loss: 0.6432\n",
            "Epoch [92/100], Loss: 0.6354\n",
            "Epoch [93/100], Loss: 0.6280\n",
            "Epoch [94/100], Loss: 0.6213\n",
            "Epoch [95/100], Loss: 0.6137\n",
            "Epoch [96/100], Loss: 0.6077\n",
            "Epoch [97/100], Loss: 0.6017\n",
            "Epoch [98/100], Loss: 0.5976\n",
            "Epoch [99/100], Loss: 0.5917\n",
            "Epoch [100/100], Loss: 0.5827\n"
          ]
        }
      ]
    },
    {
      "cell_type": "markdown",
      "source": [
        "Keep an eye on whether the validation loss starts increasing. This is an indication that our model is overfitting. We should stop training after that."
      ],
      "metadata": {
        "id": "3pWSkRtgigBs"
      }
    },
    {
      "cell_type": "markdown",
      "source": [
        "### Evaluating This Model\n",
        "\n",
        "We repeat the same steps as before. Load the testing dataset, transform it like the training dataset and evaluate accuracy on this dataset."
      ],
      "metadata": {
        "id": "2n9ad2vRHExI"
      }
    },
    {
      "cell_type": "code",
      "source": [
        "x_test = [ ]\n",
        "y_test = [ ]\n",
        "for i in range(10):\n",
        "    img_paths = (path/'testing'/str(i)).ls()  # Get the image paths in folder 'i'\n",
        "\n",
        "    # Load the images and convert to tensors\n",
        "    x_test.extend([tensor(Image.open(o)) for o in img_paths])\n",
        "\n",
        "    # Store the corresponding label `i` for all images in this folder\n",
        "    y_test.extend([tensor(i)] * len(img_paths))\n",
        "\n",
        "x_test_tensor = torch.stack(x_test).float()/255\n",
        "y_test_tensor = torch.tensor(y_test)\n",
        "\n",
        "# Each image is 28 * 28. So we flatten each image into a single flat tensor of size 784.\n",
        "flattened_x_test = x_test_tensor.view(-1, 28*28)\n",
        "flattened_y_test = y_test_tensor.unsqueeze(1)\n",
        "\n",
        "print(flattened_x_test.shape, flattened_y_test.shape)\n",
        "\n",
        "# Forward pass through the network\n",
        "hidden = torch.relu(linear(flattened_x_test, w1, b1))\n",
        "probabilities = log_softmax(linear(hidden, w2, b2))\n",
        "\n",
        "predicted_classes = torch.argmax(probabilities, dim=1)\n",
        "\n",
        "predicted_classes.shape"
      ],
      "metadata": {
        "colab": {
          "base_uri": "https://localhost:8080/"
        },
        "id": "LIde48G3HIkl",
        "outputId": "0416ac8f-184e-4cb8-f4d5-79bcf49958e6"
      },
      "execution_count": 24,
      "outputs": [
        {
          "output_type": "stream",
          "name": "stdout",
          "text": [
            "torch.Size([10000, 784]) torch.Size([10000, 1])\n"
          ]
        },
        {
          "output_type": "execute_result",
          "data": {
            "text/plain": [
              "torch.Size([10000])"
            ]
          },
          "metadata": {},
          "execution_count": 24
        }
      ]
    },
    {
      "cell_type": "code",
      "source": [
        "# Calculate the number of correct predictions\n",
        "correct_predictions = (predicted_classes == y_test_tensor).sum().item()\n",
        "\n",
        "# Calculate the number of incorrect predictions\n",
        "incorrect_predictions = len(y_test_tensor) - correct_predictions\n",
        "\n",
        "# Print the results\n",
        "print(f'Number of correct predictions: {correct_predictions}')\n",
        "print(f'Number of incorrect predictions: {incorrect_predictions}')"
      ],
      "metadata": {
        "colab": {
          "base_uri": "https://localhost:8080/"
        },
        "outputId": "021cee01-a6a6-4f58-b8af-8ae9411301fe",
        "id": "AXDsFRBiHW93"
      },
      "execution_count": 25,
      "outputs": [
        {
          "output_type": "stream",
          "name": "stdout",
          "text": [
            "Number of correct predictions: 9052\n",
            "Number of incorrect predictions: 948\n"
          ]
        }
      ]
    },
    {
      "cell_type": "markdown",
      "source": [
        "This is a great improvement on our previous model. We achieved an accuracy of 90.5%."
      ],
      "metadata": {
        "id": "LL_o7MkLlphX"
      }
    },
    {
      "cell_type": "markdown",
      "source": [
        "## Evaluating Model on Custom Images\n",
        "\n",
        "We evaluated the model on the `testing` dataset. But what happens if pass custom hand-drawn digits to this model? Does the model perform well?\n",
        "\n",
        "Let's test it. However, the images that we pass may not be in the same size as our model's inputs- for instance, in the cell below we are passing and image that is of shape $[292, 276]$. For this image to be loaded into our model, we need to reshape it. We need to apply some additional transforms to make this image fit into our desired shape."
      ],
      "metadata": {
        "id": "uFKoZ8rKi06O"
      }
    },
    {
      "cell_type": "code",
      "source": [
        "image = Image.open('/content/Screenshot 2024-10-23 212229.png')\n",
        "print(\"Image shape: \", image.shape)\n",
        "image"
      ],
      "metadata": {
        "colab": {
          "base_uri": "https://localhost:8080/",
          "height": 326
        },
        "id": "VgOzVTDUFUOL",
        "outputId": "976236c4-7462-45c7-98f0-f378be30621f"
      },
      "execution_count": 34,
      "outputs": [
        {
          "output_type": "stream",
          "name": "stdout",
          "text": [
            "Image shape:  (292, 276)\n"
          ]
        },
        {
          "output_type": "execute_result",
          "data": {
            "text/plain": [
              "<PIL.PngImagePlugin.PngImageFile image mode=RGBA size=276x292>"
            ],
            "image/png": "[encoded data removed]"
          },
          "metadata": {},
          "execution_count": 34
        }
      ]
    },
    {
      "cell_type": "code",
      "source": [
        "image = img.convert('L') # Convert image into greyscale\n",
        "image.shape"
      ],
      "metadata": {
        "colab": {
          "base_uri": "https://localhost:8080/"
        },
        "id": "wqfuFH5Rl1-a",
        "outputId": "428b5ac1-c41e-437b-99a5-2bb2c6e07762"
      },
      "execution_count": 35,
      "outputs": [
        {
          "output_type": "execute_result",
          "data": {
            "text/plain": [
              "(292, 276)"
            ]
          },
          "metadata": {},
          "execution_count": 35
        }
      ]
    },
    {
      "cell_type": "code",
      "source": [
        "image = image.resize((28, 28), Image.LANCZOS) # Resize the image into 28*28 image using LANCZOS resizing\n",
        "\n",
        "# plot the modified image\n",
        "imgplot = plt.imshow(image)"
      ],
      "metadata": {
        "colab": {
          "base_uri": "https://localhost:8080/",
          "height": 434
        },
        "id": "domvsQLEkH7m",
        "outputId": "be1f2df5-6e31-4963-96ff-32f53bd28094"
      },
      "execution_count": 40,
      "outputs": [
        {
          "output_type": "display_data",
          "data": {
            "text/plain": [
              "<Figure size 640x480 with 1 Axes>"
            ],
            "image/png": "[encoded data removed]"
          },
          "metadata": {}
        }
      ]
    },
    {
      "cell_type": "code",
      "source": [
        "# Standardize\n",
        "image_array = np.array(image) / 255.0\n",
        "\n",
        "# Add an extra dimension for batch. Now the shape is: [1, 28, 28]\n",
        "image_array = image_array.reshape(1, 28, 28)\n",
        "image_array.shape"
      ],
      "metadata": {
        "colab": {
          "base_uri": "https://localhost:8080/"
        },
        "id": "fazhyhe-mwkl",
        "outputId": "e8dbf299-f5ef-4689-e2d1-7c7877f84d94"
      },
      "execution_count": 41,
      "outputs": [
        {
          "output_type": "execute_result",
          "data": {
            "text/plain": [
              "(1, 28, 28)"
            ]
          },
          "metadata": {},
          "execution_count": 41
        }
      ]
    },
    {
      "cell_type": "code",
      "source": [
        "# Convert the numpy image array into tensor and flatten it\n",
        "img_tensor = tensor(image_array)\n",
        "flattened_x_img_tensor = img_tensor.view(-1, 28*28)\n",
        "flattened_x_img_tensor.shape"
      ],
      "metadata": {
        "colab": {
          "base_uri": "https://localhost:8080/"
        },
        "id": "uCRC9GZFjgTd",
        "outputId": "49cb8d67-c4a9-406e-ba41-3c2e2cc2fa44"
      },
      "execution_count": 42,
      "outputs": [
        {
          "output_type": "execute_result",
          "data": {
            "text/plain": [
              "torch.Size([1, 784])"
            ]
          },
          "metadata": {},
          "execution_count": 42
        }
      ]
    },
    {
      "cell_type": "code",
      "source": [
        "# Apply the model and predict\n",
        "hidden = torch.relu(linear(flattened_x_img_tensor, w1, b1))\n",
        "probabilities = log_softmax(linear(hidden, w2, b2))\n",
        "\n",
        "predicted_class = torch.argmax(probabilities, dim=1)\n",
        "predicted_class"
      ],
      "metadata": {
        "colab": {
          "base_uri": "https://localhost:8080/"
        },
        "id": "783k98zCksAb",
        "outputId": "78e86eb9-63b7-4cbc-8c02-402c80e0e23a"
      },
      "execution_count": 43,
      "outputs": [
        {
          "output_type": "execute_result",
          "data": {
            "text/plain": [
              "tensor([3])"
            ]
          },
          "metadata": {},
          "execution_count": 43
        }
      ]
    },
    {
      "cell_type": "markdown",
      "source": [
        "Yay! The model gave correct output for a new image as well. You can try to pass your own digits to check the output as well."
      ],
      "metadata": {
        "id": "kz34sp3dj2RA"
      }
    }
  ]
}